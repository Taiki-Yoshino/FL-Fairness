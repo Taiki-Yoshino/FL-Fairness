{
 "cells": [
  {
   "cell_type": "code",
   "execution_count": 8,
   "metadata": {},
   "outputs": [],
   "source": [
    "import numpy as np\n",
    "import matplotlib.pyplot as plt\n",
    "from ipywidgets import interactive_output, FloatSlider, VBox\n",
    "\n",
    "class Data_Generator():\n",
    "    def __init__(self, N, n_a, alpha_a, alpha_b, means, stds):\n",
    "        self.classLabels = [\"A1\", \"A0\", \"B1\", \"B0\"]\n",
    "        self.means = means\n",
    "        self.stds = stds\n",
    "        self.nums = self.compute_nums(N, n_a, alpha_a, alpha_b)\n",
    "        self.local_data = self.generate_local()\n",
    "        self.global_data = self.generate_global()\n",
    "        \n",
    "    def compute_nums(self, N, n_a, alpha_a, alpha_b):\n",
    "        num_a_pos = N * n_a * alpha_a\n",
    "        num_a_neg = N * n_a * (1 - alpha_a)\n",
    "        num_b_pos = N * (1 - n_a) * alpha_b\n",
    "        num_b_neg = N * (1 - n_a) * (1 - alpha_b)\n",
    "        return (int(num_a_pos), int(num_a_neg), int(num_b_pos), int(num_b_neg))\n",
    "        \n",
    "    def sample_data(self, n, mu, std, y_val, s_val):\n",
    "        result = dict()\n",
    "        result[\"x\"] = np.random.normal(mu, std, n)\n",
    "        result[\"y\"] = np.ones(n) if y_val == 1 else np.zeros(n)\n",
    "        result[\"s\"] = np.ones(n) if s_val == 1 else np.zeros(n)\n",
    "        return result\n",
    "    \n",
    "    def generate_local(self):\n",
    "        local_data = dict(dict())\n",
    "        for i in range(4):\n",
    "            label = self.classLabels[i]\n",
    "            mean = self.means[i]\n",
    "            std = self.stds[i]\n",
    "            n = self.nums[i]\n",
    "            s_val = 1 if label[0] == 'A' else 0\n",
    "            y_val = 1 if label[1] == '1' else 0\n",
    "            local_data[label] = self.sample_data(n, mean, std, y_val, s_val)\n",
    "        return local_data\n",
    "        \n",
    "    def generate_global(self):\n",
    "        pass\n",
    "        \n",
    "    def get_data(self):\n",
    "        return self.local_data"
   ]
  },
  {
   "cell_type": "code",
   "execution_count": 9,
   "metadata": {},
   "outputs": [
    {
     "data": {
      "image/png": "[encoded data removed]",
      "text/plain": [
       "<Figure size 640x480 with 1 Axes>"
      ]
     },
     "metadata": {},
     "output_type": "display_data"
    }
   ],
   "source": [
    "N = 100000\n",
    "n_a = 0.5\n",
    "alpha_a = 0.5\n",
    "alpha_b = 0.5\n",
    "means = [-5,0,5,10]\n",
    "stds = [5,1,1,1]\n",
    "classLabels = [\"A1\", \"A0\", \"B1\", \"B0\"]\n",
    "data = Data_Generator(N, n_a, alpha_a, alpha_b, means, stds)\n",
    "plt.hist(data.local_data['A1']['x'], bins=100)\n",
    "plt.hist(data.local_data['A0']['x'], bins=100)\n",
    "plt.hist(data.local_data['B0']['x'], bins=100)\n",
    "plt.hist(data.local_data['B1']['x'], bins=100)\n",
    "plt.show()"
   ]
  },
  {
   "cell_type": "code",
   "execution_count": 11,
   "metadata": {},
   "outputs": [
    {
     "data": {
      "application/vnd.jupyter.widget-view+json": {
       "model_id": "77c984dd7cbe4084a37eae0a7b751f0b",
       "version_major": 2,
       "version_minor": 0
      },
      "text/plain": [
       "VBox(children=(HBox(children=(FloatSlider(value=100000.0, description='N', max=100000.0, min=1000.0, step=1000…"
      ]
     },
     "metadata": {},
     "output_type": "display_data"
    },
    {
     "data": {
      "application/vnd.jupyter.widget-view+json": {
       "model_id": "9d0cd1eff03345c5bee7cedba4f5205d",
       "version_major": 2,
       "version_minor": 0
      },
      "text/plain": [
       "Output()"
      ]
     },
     "metadata": {},
     "output_type": "display_data"
    }
   ],
   "source": [
    "from IPython.display import clear_output\n",
    "from ipywidgets import interactive_output, FloatSlider, VBox, HBox\n",
    "\n",
    "def update_data(N, n_a, alpha_a, alpha_b, mean_A1, mean_A0, mean_B1, mean_B0, std_A1, std_A0, std_B1, std_B0):\n",
    "    means = [mean_A1, mean_A0, mean_B1, mean_B0]\n",
    "    stds = [std_A1, std_A0, std_B1, std_B0]\n",
    "    data = Data_Generator(N, n_a, alpha_a, alpha_b, means, stds)\n",
    "    local_data = data.get_data()\n",
    "    clear_output(wait=True) \n",
    "    plt.figure(figsize=(10, 6))\n",
    "    plt.xlim(-10, 15)\n",
    "    plt.ylim(0, 1)\n",
    "    plt.hist(local_data['A1']['x'], bins=100, alpha=0.5, density=True,  label='A1', color='blue')\n",
    "    plt.hist(local_data['A0']['x'], bins=100, alpha=0.5, density=True, label='A0', color='red')\n",
    "    plt.hist(local_data['B1']['x'], bins=100, alpha=0.5, density=True, label='B1', color='green')\n",
    "    plt.hist(local_data['B0']['x'], bins=100, alpha=0.5,density=True, label='B0', color='orange')\n",
    "    plt.legend(loc='upper right')\n",
    "    plt.xlabel('X')\n",
    "    plt.ylabel('density')\n",
    "    plt.title('Generated Data')\n",
    "    plt.show()\n",
    "\n",
    "N_slider = FloatSlider(min=1000, max=100000, step=1000, value=100000, description='N')\n",
    "n_a_slider = FloatSlider(min=0.0, max=1.0, step=0.01, value=0.5, description='n_a')\n",
    "alpha_a_slider = FloatSlider(min=0.0, max=1.0, step=0.01, value=0.5, description='alpha_a')\n",
    "alpha_b_slider = FloatSlider(min=0.0, max=1.0, step=0.01, value=0.5, description='alpha_b')\n",
    "mean_A1_slider = FloatSlider(min=-10, max=10, step=0.1, value=-5, description='mean_A1')\n",
    "std_A1_slider = FloatSlider(min=0.1, max=5, step=0.1, value=1, description='std_A1')\n",
    "mean_A0_slider = FloatSlider(min=-10, max=10, step=0.1, value=0, description='mean_A0')\n",
    "std_A0_slider = FloatSlider(min=0.1, max=5, step=0.1, value=1, description='std_A0')\n",
    "mean_B1_slider = FloatSlider(min=-10, max=10, step=0.1, value=5, description='mean_B1')\n",
    "std_B1_slider = FloatSlider(min=0.1, max=5, step=0.1, value=1, description='std_B1')\n",
    "mean_B0_slider = FloatSlider(min=-10, max=10, step=0.1, value=10, description='mean_B0')\n",
    "std_B0_slider = FloatSlider(min=0.1, max=5, step=0.1, value=1, description='std_B0')\n",
    "\n",
    "row1 = HBox([N_slider , n_a_slider])\n",
    "row2 = HBox([alpha_a_slider, alpha_b_slider])\n",
    "row3 = HBox([mean_A1_slider, mean_A0_slider, mean_B1_slider,mean_B0_slider])\n",
    "row4 =  HBox([std_A1_slider, std_A0_slider, std_B1_slider,std_B0_slider])\n",
    "ui = VBox([row1, row2, row3, row4])\n",
    "\n",
    "output = interactive_output(update_data, {\n",
    "    'N': N_slider, 'n_a': n_a_slider, 'alpha_a': alpha_a_slider, 'alpha_b': alpha_b_slider,\n",
    "    'mean_A1': mean_A1_slider, 'mean_A0': mean_A0_slider, 'mean_B1': mean_B1_slider, 'mean_B0': mean_B0_slider,\n",
    "    'std_A1': std_A1_slider, 'std_A0': std_A0_slider, 'std_B1': std_B1_slider, 'std_B0': std_B0_slider\n",
    "})\n",
    "\n",
    "display(ui, output)"
   ]
  },
  {
   "cell_type": "code",
   "execution_count": null,
   "metadata": {},
   "outputs": [],
   "source": []
  }
 ],
 "metadata": {
  "kernelspec": {
   "display_name": "Python 3",
   "language": "python",
   "name": "python3"
  },
  "language_info": {
   "codemirror_mode": {
    "name": "ipython",
    "version": 3
   },
   "file_extension": ".py",
   "mimetype": "text/x-python",
   "name": "python",
   "nbconvert_exporter": "python",
   "pygments_lexer": "ipython3",
   "version": "3.11.4"
  }
 },
 "nbformat": 4,
 "nbformat_minor": 2
}
